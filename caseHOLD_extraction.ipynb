{
 "cells": [
  {
   "cell_type": "code",
   "execution_count": 1,
   "metadata": {},
   "outputs": [],
   "source": [
    "from extract import *\n",
    "from pprint import pprint\n",
    "import pickle\n",
    "with open('checkpoints/fullv1.pkl', 'rb') as p:\n",
    "    features = pickle.load(p)"
   ]
  },
  {
   "cell_type": "code",
   "execution_count": 10,
   "metadata": {},
   "outputs": [],
   "source": [
    "casehold = []\n",
    "with open('data/casehold/data/casehold.csv', 'r', encoding='utf-8') as f:\n",
    "    raw = list(csv.reader(f))\n",
    "casehold = [CaseHOLDInstance(line[0], line[1], line[2:7], line[-1]) for line in raw[1:1501]]"
   ]
  },
  {
   "cell_type": "code",
   "execution_count": null,
   "metadata": {},
   "outputs": [],
   "source": [
    "ground_truths = [chi.answer for chi in casehold]\n",
    "ground_truths"
   ]
  },
  {
   "cell_type": "code",
   "execution_count": 34,
   "metadata": {},
   "outputs": [],
   "source": [
    "preds = []\n",
    "from scipy.spatial.distance import cosine\n",
    "\n",
    "for chf in features:\n",
    "    probs = []\n",
    "    # ctx_vec = np.concatenate([chf.context_structural.vector, chf.context_symbolic.vector])\n",
    "    ctx_vec = chf.context_symbolic.vector\n",
    "    for ans_str, ans_sym in zip(chf.choices_structural, chf.choices_symbolic):\n",
    "        # ans_vec = np.concatenate([ans_str.vector, ans_sym.vector])\n",
    "        ans_vec = ans_sym.vector\n",
    "        probs.append(cosine(ctx_vec, ans_vec))\n",
    "        # mean_diff_str = np.mean(np.array(chf.context_structural.vector) - np.array(ans_str.vector))\n",
    "        # mean_diff_sym = np.mean(np.array(chf.context_symbolic.vector) - np.array(ans_sym.vector))\n",
    "        # probs.append(((0.3 * mean_diff_str) + (0.7 * mean_diff_sym)))\n",
    "\n",
    "    preds.append(str(np.argmax(probs)))"
   ]
  },
  {
   "cell_type": "code",
   "execution_count": 35,
   "metadata": {},
   "outputs": [
    {
     "data": {
      "text/plain": [
       "199"
      ]
     },
     "execution_count": 35,
     "metadata": {},
     "output_type": "execute_result"
    }
   ],
   "source": [
    "correct = 0\n",
    "for pred, truth in zip(preds, ground_truths):\n",
    "    if pred == truth:\n",
    "        correct += 1\n",
    "\n",
    "correct"
   ]
  },
  {
   "cell_type": "code",
   "execution_count": 9,
   "metadata": {},
   "outputs": [
    {
     "data": {
      "text/plain": [
       "array([0.57763566, 0.47688619, 0.44349779, 0.487941  , 0.46300788,\n",
       "       0.48067358, 0.56933879, 0.56711932, 0.36706055, 0.7359739 ,\n",
       "       0.34884218, 0.43676829, 0.40788168, 0.26765529, 0.48814007,\n",
       "       0.43039607, 0.39104856, 0.52342099, 0.47351217, 0.46107588,\n",
       "       0.53434871, 0.44042433, 0.35309452, 0.31936896, 0.42101978,\n",
       "       0.36472558, 0.3380018 , 0.35479546, 0.41651279, 0.48467888,\n",
       "       0.38719236, 0.33013313, 0.31269641, 0.32884208, 0.42179536])"
      ]
     },
     "execution_count": 9,
     "metadata": {},
     "output_type": "execute_result"
    }
   ],
   "source": [
    "features[0].choices_symbolic[1].vector[:35]"
   ]
  },
  {
   "cell_type": "code",
   "execution_count": 8,
   "metadata": {},
   "outputs": [
    {
     "data": {
      "text/plain": [
       "array([0.6788955 , 0.68668109, 0.58207237, 0.70845176, 0.63207111,\n",
       "       0.72037325, 0.67124023, 0.67415762, 0.54042217, 0.70648366,\n",
       "       0.28195966, 0.47797466, 0.58728226, 0.43890772, 0.59264801,\n",
       "       0.49465834, 0.51446895, 0.53346349, 0.5199752 , 0.65087742,\n",
       "       0.56700155, 0.55963234, 0.55647771, 0.50590946, 0.39663072,\n",
       "       0.40308393, 0.44642299, 0.45722869, 0.52643839, 0.5652023 ,\n",
       "       0.55674168, 0.40566396, 0.38305519, 0.4006877 , 0.44640438])"
      ]
     },
     "execution_count": 8,
     "metadata": {},
     "output_type": "execute_result"
    }
   ],
   "source": [
    "features[0].context_symbolic.vector[:35]"
   ]
  },
  {
   "cell_type": "code",
   "execution_count": 2,
   "metadata": {},
   "outputs": [],
   "source": []
  },
  {
   "cell_type": "code",
   "execution_count": 3,
   "metadata": {},
   "outputs": [
    {
     "name": "stderr",
     "output_type": "stream",
     "text": [
      "/Users/schanchani/Desktop/legaCy/extract.py:176: RuntimeWarning: invalid value encountered in long_scalars\n",
      "  feature.append(tvmm[attribute][option] / attribute_total)\n",
      "/Users/schanchani/opt/anaconda3/envs/legaCy/lib/python3.8/site-packages/numpy/core/fromnumeric.py:3474: RuntimeWarning: Mean of empty slice.\n",
      "  return _methods._mean(a, axis=axis, dtype=dtype,\n",
      "/Users/schanchani/opt/anaconda3/envs/legaCy/lib/python3.8/site-packages/numpy/core/_methods.py:189: RuntimeWarning: invalid value encountered in double_scalars\n",
      "  ret = ret.dtype.type(ret / rcount)\n"
     ]
    }
   ],
   "source": [
    "features = caseHOLD_structural(casehold)"
   ]
  },
  {
   "cell_type": "code",
   "execution_count": null,
   "metadata": {},
   "outputs": [],
   "source": [
    "features[0]"
   ]
  },
  {
   "cell_type": "code",
   "execution_count": 4,
   "metadata": {},
   "outputs": [],
   "source": [
    "import pickle\n",
    "with open('features/version1.pkl', 'wb') as d:\n",
    "    pickle.dump(features, d)"
   ]
  },
  {
   "cell_type": "code",
   "execution_count": null,
   "metadata": {},
   "outputs": [],
   "source": [
    "# [\"Fin\", \"Inf\", \"Part\"] [\"Fut\", \"Past\", \"Pres\"] [\"Imp\", \"Perf\", \"Prog\"] [\"Ind\", \"Cnd\", \"Sub\"] [\"Act\", \"Pass\"] [Minimum, Mean, Maximum]"
   ]
  }
 ],
 "metadata": {
  "interpreter": {
   "hash": "9779a17212d7330df14e5db317b5987961a95fe28d52d866cef929b04cd4fd53"
  },
  "kernelspec": {
   "display_name": "Python 3.8.13 ('legaCy')",
   "language": "python",
   "name": "python3"
  },
  "language_info": {
   "codemirror_mode": {
    "name": "ipython",
    "version": 3
   },
   "file_extension": ".py",
   "mimetype": "text/x-python",
   "name": "python",
   "nbconvert_exporter": "python",
   "pygments_lexer": "ipython3",
   "version": "3.8.13"
  },
  "orig_nbformat": 4
 },
 "nbformat": 4,
 "nbformat_minor": 2
}
