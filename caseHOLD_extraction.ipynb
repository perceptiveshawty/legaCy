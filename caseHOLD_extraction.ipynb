{
 "cells": [
  {
   "cell_type": "code",
   "execution_count": 8,
   "metadata": {},
   "outputs": [],
   "source": [
    "from extract import *\n",
    "from pprint import pprint\n",
    "import pickle\n",
    "\n",
    "with open('checkpoints/fullv2.pkl', 'rb') as p:\n",
    "    features = pickle.load(p)\n",
    "\n",
    "with open(\"data/casehold/datav2.pkl\", \"rb\") as p:\n",
    "    casehold = pickle.load(p)"
   ]
  },
  {
   "cell_type": "markdown",
   "metadata": {},
   "source": [
    "10000 : 41m 5.6s"
   ]
  },
  {
   "cell_type": "code",
   "execution_count": 3,
   "metadata": {},
   "outputs": [
    {
     "name": "stderr",
     "output_type": "stream",
     "text": [
      "OMP: Info #276: omp_set_nested routine deprecated, please use omp_set_max_active_levels instead.\n"
     ]
    }
   ],
   "source": [
    "features = extract_features(casehold[:10000])\n",
    "\n",
    "with open(\"checkpoints/fullv2.pkl\", \"wb\") as d:\n",
    "    pickle.dump(features, d)"
   ]
  },
  {
   "cell_type": "code",
   "execution_count": 9,
   "metadata": {},
   "outputs": [],
   "source": [
    "ground_truths = [e.answer for e in casehold[:10000]]"
   ]
  },
  {
   "cell_type": "code",
   "execution_count": 35,
   "metadata": {},
   "outputs": [
    {
     "name": "stdout",
     "output_type": "stream",
     "text": [
      "This holding, however, not only fails to dispose of Reyes’s first complaint, it fails to consider Rule 13.1(a)’s history in addressing his second complaint. However, since Reyes’s second issue can (and should) be disposed of without doing violence to the mandatory nature of the court reporter’s duty, I concur in the court’s judgment. When the trial court renders a judgment for the recovery of real property, the amount of “security must be at least ... the value of the property interest’s rent or revenue.” Tex.R.App. P. 24.2(a)(2)(A). Therefore, to determine the proper amount t did not hold an evidentiary hearing on Reyes’s motion to set superse-deas, a reporter’s record of the hearing was not required. Cf. Michiana Easy Livin’ Country, Inc. v. Holten, 168 S.W.3d 777, 782 (Tex.2005) (<HOLDING>). The majority holds, however, that Reyes \n",
      "\n",
      "recognizing that the only record of grand jury testimony is the court reporters certified transcript not her tape recording of the proceeding\n",
      "holding that appellant failed to preserve error in court reporters failure to make record of trial by failing to object\n",
      "holding in the pretrial context that a reporters record is required only if evidence is introduced in open court for nonevidentiary hearings it is superfluous\n",
      "holding that if no countervailing evidence is introduced the trial court is  justified in fact required to enter summary judgment for the government the amount of the taxes proved to be due\n",
      "holding that it is not \n",
      "\n",
      "2\n"
     ]
    }
   ],
   "source": [
    "print(casehold[52].context, '\\n')\n",
    "print(casehold[52].choices[0])\n",
    "print(casehold[52].choices[1])\n",
    "print(casehold[52].choices[2])\n",
    "print(casehold[52].choices[3])\n",
    "print(casehold[52].choices[4], '\\n')\n",
    "print(casehold[52].answer)"
   ]
  },
  {
   "cell_type": "code",
   "execution_count": 28,
   "metadata": {},
   "outputs": [],
   "source": [
    "from scipy.spatial.distance import cosine, correlation\n",
    "\n",
    "preds, scores = [], []\n",
    "for chf in features:\n",
    "    probs, choices = [], []\n",
    "\n",
    "    # ctx_vec = np.concatenate([np.nan_to_num(chf.context_structural.vector), chf.context_symbolic.vector])\n",
    "    ctx_vec = chf.context_symbolic.vector\n",
    "    # ctx_vec = np.nan_to_num(chf.context_structural.vector)\n",
    "    for ans_str, ans_sym in zip(chf.choices_structural, chf.choices_symbolic):\n",
    "        # choices.append(np.concatenate([np.nan_to_num(ans_str.vector), ans_sym.vector]))\n",
    "        ans_vec = ans_sym.vector\n",
    "        # ans_vec = np.nan_to_num(ans_str.vector)\n",
    "        # probs.append(correlation(ctx_vec, ans_vec))\n",
    "        # probs.append(np.arctan(np.dot(ctx_vec, ans_vec)))\n",
    "        probs.append(cosine(ctx_vec, ans_vec))\n",
    "        # choices.append(ans_vec)\n",
    "        # probs.append(np.exp(np.dot(ctx_vec, ans_vec))/np.sum(np.exp(np.dot(ctx_vec, ans_vec))))\n",
    "\n",
    "    preds.append(np.argmax(probs))\n",
    "    scores.append(probs)"
   ]
  },
  {
   "cell_type": "code",
   "execution_count": 29,
   "metadata": {},
   "outputs": [
    {
     "name": "stdout",
     "output_type": "stream",
     "text": [
      "Data/Features - V2/Symbolic, Distance - cossim(x, y)\n",
      "Top K Accuracy (1, 2, 3): 0.1382, 0.3062, 0.4924\n",
      "F1: 0.1382\n",
      "Coverage Error: 3.3514\n",
      "Matthew's: -0.07728587696184243\n"
     ]
    }
   ],
   "source": [
    "from sklearn.metrics import top_k_accuracy_score, f1_score, coverage_error, matthews_corrcoef\n",
    "from sklearn.preprocessing import label_binarize\n",
    "\n",
    "top1 = top_k_accuracy_score(np.array(ground_truths), np.array(scores), k=1)\n",
    "top2 = top_k_accuracy_score(np.array(ground_truths), np.array(scores), k=2)\n",
    "top3 = top_k_accuracy_score(np.array(ground_truths), np.array(scores), k=3)\n",
    "f1 = f1_score(np.array(ground_truths), np.array(preds), average='micro')\n",
    "coverr = coverage_error(label_binarize(np.array(ground_truths), classes=[0, 1, 2, 3, 4]), np.array(scores))\n",
    "mcc = matthews_corrcoef(np.array(ground_truths), np.array(preds))\n",
    "\n",
    "print(\"Data/Features - V2/Symbolic, Distance - cossim(x, y)\")\n",
    "print(f\"Top K Accuracy (1, 2, 3): {top1}, {top2}, {top3}\\nF1: {f1}\\nCoverage Error: {coverr}\\nMatthew's: {mcc}\")"
   ]
  },
  {
   "cell_type": "code",
   "execution_count": 27,
   "metadata": {},
   "outputs": [
    {
     "name": "stdout",
     "output_type": "stream",
     "text": [
      "Data/Features - V2/Structural, Distance - cossim(x, y)\n",
      "Top K Accuracy (1, 2, 3): 0.1914, 0.3877, 0.5891\n",
      "F1: 0.1898\n",
      "Coverage Error: 3.1002\n",
      "Matthew's: -0.0128775946625149\n"
     ]
    }
   ],
   "source": [
    "from sklearn.metrics import top_k_accuracy_score, f1_score, coverage_error, matthews_corrcoef\n",
    "from sklearn.preprocessing import label_binarize\n",
    "\n",
    "top1 = top_k_accuracy_score(np.array(ground_truths), np.array(scores), k=1)\n",
    "top2 = top_k_accuracy_score(np.array(ground_truths), np.array(scores), k=2)\n",
    "top3 = top_k_accuracy_score(np.array(ground_truths), np.array(scores), k=3)\n",
    "f1 = f1_score(np.array(ground_truths), np.array(preds), average='micro')\n",
    "coverr = coverage_error(label_binarize(np.array(ground_truths), classes=[0, 1, 2, 3, 4]), np.array(scores))\n",
    "mcc = matthews_corrcoef(np.array(ground_truths), np.array(preds))\n",
    "\n",
    "print(\"Data/Features - V2/Structural, Distance - cossim(x, y)\")\n",
    "print(f\"Top K Accuracy (1, 2, 3): {top1}, {top2}, {top3}\\nF1: {f1}\\nCoverage Error: {coverr}\\nMatthew's: {mcc}\")"
   ]
  },
  {
   "cell_type": "code",
   "execution_count": 58,
   "metadata": {},
   "outputs": [
    {
     "name": "stdout",
     "output_type": "stream",
     "text": [
      "Data/Features - V2, Distance - Arctan\n",
      "Top K Accuracy (1, 2, 3): 0.2036, 0.4153, 0.614\n",
      "F1: 0.20350000000000001\n",
      "Coverage Error: 2.9542\n",
      "Matthew's: 0.004400506772389757\n"
     ]
    }
   ],
   "source": [
    "from sklearn.metrics import top_k_accuracy_score, f1_score, coverage_error, matthews_corrcoef\n",
    "from sklearn.preprocessing import label_binarize\n",
    "\n",
    "top1 = top_k_accuracy_score(np.array(ground_truths), np.array(scores), k=1)\n",
    "top2 = top_k_accuracy_score(np.array(ground_truths), np.array(scores), k=2)\n",
    "top3 = top_k_accuracy_score(np.array(ground_truths), np.array(scores), k=3)\n",
    "f1 = f1_score(np.array(ground_truths), np.array(preds), average='micro')\n",
    "coverr = coverage_error(label_binarize(np.array(ground_truths), classes=[0, 1, 2, 3, 4]), np.array(scores))\n",
    "mcc = matthews_corrcoef(np.array(ground_truths), np.array(preds))\n",
    "\n",
    "print(\"Data/Features - V2, Distance - arctan(x . y)\")\n",
    "print(f\"Top K Accuracy (1, 2, 3): {top1}, {top2}, {top3}\\nF1: {f1}\\nCoverage Error: {coverr}\\nMatthew's: {mcc}\")"
   ]
  },
  {
   "cell_type": "code",
   "execution_count": 61,
   "metadata": {},
   "outputs": [
    {
     "name": "stdout",
     "output_type": "stream",
     "text": [
      "Data/Features - V2, Distance - cossim(x, y)\n",
      "Top K Accuracy (1, 2, 3): 0.1423, 0.3165, 0.5048\n",
      "F1: 0.1421\n",
      "Coverage Error: 3.3115\n",
      "Matthew's: -0.07242128372411656\n"
     ]
    }
   ],
   "source": [
    "from sklearn.metrics import top_k_accuracy_score, f1_score, coverage_error, matthews_corrcoef\n",
    "from sklearn.preprocessing import label_binarize\n",
    "\n",
    "top1 = top_k_accuracy_score(np.array(ground_truths), np.array(scores), k=1)\n",
    "top2 = top_k_accuracy_score(np.array(ground_truths), np.array(scores), k=2)\n",
    "top3 = top_k_accuracy_score(np.array(ground_truths), np.array(scores), k=3)\n",
    "f1 = f1_score(np.array(ground_truths), np.array(preds), average='micro')\n",
    "coverr = coverage_error(label_binarize(np.array(ground_truths), classes=[0, 1, 2, 3, 4]), np.array(scores))\n",
    "mcc = matthews_corrcoef(np.array(ground_truths), np.array(preds))\n",
    "\n",
    "print(\"Data/Features - V2, Distance - cossim(x, y)\")\n",
    "print(f\"Top K Accuracy (1, 2, 3): {top1}, {top2}, {top3}\\nF1: {f1}\\nCoverage Error: {coverr}\\nMatthew's: {mcc}\")"
   ]
  }
 ],
 "metadata": {
  "interpreter": {
   "hash": "9779a17212d7330df14e5db317b5987961a95fe28d52d866cef929b04cd4fd53"
  },
  "kernelspec": {
   "display_name": "Python 3.8.13 ('legaCy')",
   "language": "python",
   "name": "python3"
  },
  "language_info": {
   "codemirror_mode": {
    "name": "ipython",
    "version": 3
   },
   "file_extension": ".py",
   "mimetype": "text/x-python",
   "name": "python",
   "nbconvert_exporter": "python",
   "pygments_lexer": "ipython3",
   "version": "3.8.13"
  },
  "orig_nbformat": 4
 },
 "nbformat": 4,
 "nbformat_minor": 2
}
