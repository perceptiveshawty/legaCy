{
 "cells": [
  {
   "cell_type": "code",
   "execution_count": 1,
   "metadata": {},
   "outputs": [],
   "source": [
    "from extract import *\n",
    "from pprint import pprint\n",
    "import pickle\n",
    "# with open('features/version1.pkl', 'rb') as p:\n",
    "    # features = pickle.load(p)"
   ]
  },
  {
   "cell_type": "code",
   "execution_count": 2,
   "metadata": {},
   "outputs": [],
   "source": [
    "casehold = []\n",
    "with open('data/casehold/data/casehold.csv', 'r', encoding='utf-8') as f:\n",
    "    raw = list(csv.reader(f))\n",
    "casehold = [CaseHOLDInstance(line[0], line[1], line[2:7], line[-1]) for line in raw[1:]]"
   ]
  },
  {
   "cell_type": "code",
   "execution_count": 3,
   "metadata": {},
   "outputs": [
    {
     "name": "stderr",
     "output_type": "stream",
     "text": [
      "/Users/schanchani/Desktop/legaCy/extract.py:176: RuntimeWarning: invalid value encountered in long_scalars\n",
      "  feature.append(tvmm[attribute][option] / attribute_total)\n",
      "/Users/schanchani/opt/anaconda3/envs/legaCy/lib/python3.8/site-packages/numpy/core/fromnumeric.py:3474: RuntimeWarning: Mean of empty slice.\n",
      "  return _methods._mean(a, axis=axis, dtype=dtype,\n",
      "/Users/schanchani/opt/anaconda3/envs/legaCy/lib/python3.8/site-packages/numpy/core/_methods.py:189: RuntimeWarning: invalid value encountered in double_scalars\n",
      "  ret = ret.dtype.type(ret / rcount)\n"
     ]
    }
   ],
   "source": [
    "features = caseHOLD_structural(casehold)"
   ]
  },
  {
   "cell_type": "code",
   "execution_count": null,
   "metadata": {},
   "outputs": [],
   "source": [
    "features[0]"
   ]
  },
  {
   "cell_type": "code",
   "execution_count": 4,
   "metadata": {},
   "outputs": [],
   "source": [
    "import pickle\n",
    "with open('features/version1.pkl', 'wb') as d:\n",
    "    pickle.dump(features, d)"
   ]
  },
  {
   "cell_type": "code",
   "execution_count": null,
   "metadata": {},
   "outputs": [],
   "source": [
    "# [\"Fin\", \"Inf\", \"Part\"] [\"Fut\", \"Past\", \"Pres\"] [\"Imp\", \"Perf\", \"Prog\"] [\"Ind\", \"Cnd\", \"Sub\"] [\"Act\", \"Pass\"] [Minimum, Mean, Maximum]"
   ]
  }
 ],
 "metadata": {
  "interpreter": {
   "hash": "9779a17212d7330df14e5db317b5987961a95fe28d52d866cef929b04cd4fd53"
  },
  "kernelspec": {
   "display_name": "Python 3.8.13 ('legaCy')",
   "language": "python",
   "name": "python3"
  },
  "language_info": {
   "codemirror_mode": {
    "name": "ipython",
    "version": 3
   },
   "file_extension": ".py",
   "mimetype": "text/x-python",
   "name": "python",
   "nbconvert_exporter": "python",
   "pygments_lexer": "ipython3",
   "version": "3.8.13"
  },
  "orig_nbformat": 4
 },
 "nbformat": 4,
 "nbformat_minor": 2
}
